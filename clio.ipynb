{
 "cells": [
  {
   "cell_type": "code",
   "execution_count": 2,
   "id": "df2706a8",
   "metadata": {},
   "outputs": [
    {
     "name": "stderr",
     "output_type": "stream",
     "text": [
      "C:\\Users\\steve\\Clio_Muse Data Analysis Project\\functions.py:337: UserWarning: Parsing dates in %Y-%m-%d %H:%M:%S format when dayfirst=True was specified. Pass `dayfirst=False` or specify a format to silence this warning.\n",
      "  dataframe1['booking_date'] = pd.to_datetime(dataframe1['booking_date'], dayfirst=True)\n"
     ]
    },
    {
     "ename": "PermissionError",
     "evalue": "[Errno 13] Permission denied: 'questions/recommended.xlsx'",
     "output_type": "error",
     "traceback": [
      "\u001b[1;31m---------------------------------------------------------------------------\u001b[0m",
      "\u001b[1;31mPermissionError\u001b[0m                           Traceback (most recent call last)",
      "Cell \u001b[1;32mIn[2], line 2\u001b[0m\n\u001b[0;32m      1\u001b[0m \u001b[38;5;28;01mfrom\u001b[39;00m \u001b[38;5;21;01mfunctions\u001b[39;00m \u001b[38;5;28;01mimport\u001b[39;00m \u001b[38;5;241m*\u001b[39m\n\u001b[1;32m----> 2\u001b[0m \u001b[38;5;28;01mfrom\u001b[39;00m \u001b[38;5;21;01mclio\u001b[39;00m \u001b[38;5;28;01mimport\u001b[39;00m \u001b[38;5;241m*\u001b[39m\n\u001b[0;32m      3\u001b[0m \u001b[38;5;28;01mimport\u001b[39;00m \u001b[38;5;21;01mnumpy\u001b[39;00m \u001b[38;5;28;01mas\u001b[39;00m \u001b[38;5;21;01mnp\u001b[39;00m\n\u001b[0;32m      4\u001b[0m \u001b[38;5;28;01mimport\u001b[39;00m \u001b[38;5;21;01mpandas\u001b[39;00m \u001b[38;5;28;01mas\u001b[39;00m \u001b[38;5;21;01mpd\u001b[39;00m\n",
      "File \u001b[1;32m~\\Clio_Muse Data Analysis Project\\clio.py:32\u001b[0m\n\u001b[0;32m     29\u001b[0m dataframe2 \u001b[38;5;241m=\u001b[39m add_df2_profit(dataframe1, dataframe2)\n\u001b[0;32m     31\u001b[0m \u001b[38;5;66;03m#which tours do we recommend to a traveller?\u001b[39;00m\n\u001b[1;32m---> 32\u001b[0m \u001b[43mwhich_tours_do_we_recommend_to_a_traveller\u001b[49m\u001b[43m(\u001b[49m\u001b[43mdataframe1\u001b[49m\u001b[43m,\u001b[49m\u001b[43m \u001b[49m\u001b[43mdataframe2\u001b[49m\u001b[43m,\u001b[49m\u001b[43m \u001b[49m\u001b[43mgo_together\u001b[49m\u001b[43m)\u001b[49m\n\u001b[0;32m     34\u001b[0m plot_travellers_vs_spending(successful)\n\u001b[0;32m     36\u001b[0m save_to_excel(dataframe1, dataframe2)\n",
      "File \u001b[1;32m~\\Clio_Muse Data Analysis Project\\functions.py:399\u001b[0m, in \u001b[0;36mwhich_tours_do_we_recommend_to_a_traveller\u001b[1;34m(dataframe1, dataframe2, go_together)\u001b[0m\n\u001b[0;32m    396\u001b[0m \u001b[38;5;66;03m#now do a pivot operation. keep the name of our product as index, and pivot the experience column into 2 columns, the 4 and 5 ratings, and count the occurence of each review for the afore mentioned product\u001b[39;00m\n\u001b[0;32m    397\u001b[0m pivot_df \u001b[38;5;241m=\u001b[39m liked_tours\u001b[38;5;241m.\u001b[39mpivot_table(index \u001b[38;5;241m=\u001b[39m \u001b[38;5;124m'\u001b[39m\u001b[38;5;124mProduct Code and Name\u001b[39m\u001b[38;5;124m'\u001b[39m, columns \u001b[38;5;241m=\u001b[39m \u001b[38;5;124m'\u001b[39m\u001b[38;5;124mExperience\u001b[39m\u001b[38;5;124m'\u001b[39m, aggfunc \u001b[38;5;241m=\u001b[39m \u001b[38;5;124m'\u001b[39m\u001b[38;5;124msize\u001b[39m\u001b[38;5;124m'\u001b[39m, fill_value \u001b[38;5;241m=\u001b[39m \u001b[38;5;241m0\u001b[39m)\u001b[38;5;241m.\u001b[39mreset_index()\n\u001b[1;32m--> 399\u001b[0m \u001b[43mpivot_df\u001b[49m\u001b[38;5;241;43m.\u001b[39;49m\u001b[43mto_excel\u001b[49m\u001b[43m(\u001b[49m\u001b[38;5;124;43m'\u001b[39;49m\u001b[38;5;124;43mquestions/recommended.xlsx\u001b[39;49m\u001b[38;5;124;43m'\u001b[39;49m\u001b[43m,\u001b[49m\u001b[43m \u001b[49m\u001b[43mindex\u001b[49m\u001b[43m \u001b[49m\u001b[38;5;241;43m=\u001b[39;49m\u001b[38;5;28;43;01mFalse\u001b[39;49;00m\u001b[43m)\u001b[49m\n",
      "File \u001b[1;32m~\\AppData\\Roaming\\Python\\Python311\\site-packages\\pandas\\util\\_decorators.py:333\u001b[0m, in \u001b[0;36mdeprecate_nonkeyword_arguments.<locals>.decorate.<locals>.wrapper\u001b[1;34m(*args, **kwargs)\u001b[0m\n\u001b[0;32m    327\u001b[0m \u001b[38;5;28;01mif\u001b[39;00m \u001b[38;5;28mlen\u001b[39m(args) \u001b[38;5;241m>\u001b[39m num_allow_args:\n\u001b[0;32m    328\u001b[0m     warnings\u001b[38;5;241m.\u001b[39mwarn(\n\u001b[0;32m    329\u001b[0m         msg\u001b[38;5;241m.\u001b[39mformat(arguments\u001b[38;5;241m=\u001b[39m_format_argument_list(allow_args)),\n\u001b[0;32m    330\u001b[0m         \u001b[38;5;167;01mFutureWarning\u001b[39;00m,\n\u001b[0;32m    331\u001b[0m         stacklevel\u001b[38;5;241m=\u001b[39mfind_stack_level(),\n\u001b[0;32m    332\u001b[0m     )\n\u001b[1;32m--> 333\u001b[0m \u001b[38;5;28;01mreturn\u001b[39;00m \u001b[43mfunc\u001b[49m\u001b[43m(\u001b[49m\u001b[38;5;241;43m*\u001b[39;49m\u001b[43margs\u001b[49m\u001b[43m,\u001b[49m\u001b[43m \u001b[49m\u001b[38;5;241;43m*\u001b[39;49m\u001b[38;5;241;43m*\u001b[39;49m\u001b[43mkwargs\u001b[49m\u001b[43m)\u001b[49m\n",
      "File \u001b[1;32m~\\AppData\\Roaming\\Python\\Python311\\site-packages\\pandas\\core\\generic.py:2414\u001b[0m, in \u001b[0;36mNDFrame.to_excel\u001b[1;34m(self, excel_writer, sheet_name, na_rep, float_format, columns, header, index, index_label, startrow, startcol, engine, merge_cells, inf_rep, freeze_panes, storage_options, engine_kwargs)\u001b[0m\n\u001b[0;32m   2401\u001b[0m \u001b[38;5;28;01mfrom\u001b[39;00m \u001b[38;5;21;01mpandas\u001b[39;00m\u001b[38;5;21;01m.\u001b[39;00m\u001b[38;5;21;01mio\u001b[39;00m\u001b[38;5;21;01m.\u001b[39;00m\u001b[38;5;21;01mformats\u001b[39;00m\u001b[38;5;21;01m.\u001b[39;00m\u001b[38;5;21;01mexcel\u001b[39;00m \u001b[38;5;28;01mimport\u001b[39;00m ExcelFormatter\n\u001b[0;32m   2403\u001b[0m formatter \u001b[38;5;241m=\u001b[39m ExcelFormatter(\n\u001b[0;32m   2404\u001b[0m     df,\n\u001b[0;32m   2405\u001b[0m     na_rep\u001b[38;5;241m=\u001b[39mna_rep,\n\u001b[1;32m   (...)\u001b[0m\n\u001b[0;32m   2412\u001b[0m     inf_rep\u001b[38;5;241m=\u001b[39minf_rep,\n\u001b[0;32m   2413\u001b[0m )\n\u001b[1;32m-> 2414\u001b[0m \u001b[43mformatter\u001b[49m\u001b[38;5;241;43m.\u001b[39;49m\u001b[43mwrite\u001b[49m\u001b[43m(\u001b[49m\n\u001b[0;32m   2415\u001b[0m \u001b[43m    \u001b[49m\u001b[43mexcel_writer\u001b[49m\u001b[43m,\u001b[49m\n\u001b[0;32m   2416\u001b[0m \u001b[43m    \u001b[49m\u001b[43msheet_name\u001b[49m\u001b[38;5;241;43m=\u001b[39;49m\u001b[43msheet_name\u001b[49m\u001b[43m,\u001b[49m\n\u001b[0;32m   2417\u001b[0m \u001b[43m    \u001b[49m\u001b[43mstartrow\u001b[49m\u001b[38;5;241;43m=\u001b[39;49m\u001b[43mstartrow\u001b[49m\u001b[43m,\u001b[49m\n\u001b[0;32m   2418\u001b[0m \u001b[43m    \u001b[49m\u001b[43mstartcol\u001b[49m\u001b[38;5;241;43m=\u001b[39;49m\u001b[43mstartcol\u001b[49m\u001b[43m,\u001b[49m\n\u001b[0;32m   2419\u001b[0m \u001b[43m    \u001b[49m\u001b[43mfreeze_panes\u001b[49m\u001b[38;5;241;43m=\u001b[39;49m\u001b[43mfreeze_panes\u001b[49m\u001b[43m,\u001b[49m\n\u001b[0;32m   2420\u001b[0m \u001b[43m    \u001b[49m\u001b[43mengine\u001b[49m\u001b[38;5;241;43m=\u001b[39;49m\u001b[43mengine\u001b[49m\u001b[43m,\u001b[49m\n\u001b[0;32m   2421\u001b[0m \u001b[43m    \u001b[49m\u001b[43mstorage_options\u001b[49m\u001b[38;5;241;43m=\u001b[39;49m\u001b[43mstorage_options\u001b[49m\u001b[43m,\u001b[49m\n\u001b[0;32m   2422\u001b[0m \u001b[43m    \u001b[49m\u001b[43mengine_kwargs\u001b[49m\u001b[38;5;241;43m=\u001b[39;49m\u001b[43mengine_kwargs\u001b[49m\u001b[43m,\u001b[49m\n\u001b[0;32m   2423\u001b[0m \u001b[43m\u001b[49m\u001b[43m)\u001b[49m\n",
      "File \u001b[1;32m~\\AppData\\Roaming\\Python\\Python311\\site-packages\\pandas\\io\\formats\\excel.py:943\u001b[0m, in \u001b[0;36mExcelFormatter.write\u001b[1;34m(self, writer, sheet_name, startrow, startcol, freeze_panes, engine, storage_options, engine_kwargs)\u001b[0m\n\u001b[0;32m    941\u001b[0m     need_save \u001b[38;5;241m=\u001b[39m \u001b[38;5;28;01mFalse\u001b[39;00m\n\u001b[0;32m    942\u001b[0m \u001b[38;5;28;01melse\u001b[39;00m:\n\u001b[1;32m--> 943\u001b[0m     writer \u001b[38;5;241m=\u001b[39m \u001b[43mExcelWriter\u001b[49m\u001b[43m(\u001b[49m\n\u001b[0;32m    944\u001b[0m \u001b[43m        \u001b[49m\u001b[43mwriter\u001b[49m\u001b[43m,\u001b[49m\n\u001b[0;32m    945\u001b[0m \u001b[43m        \u001b[49m\u001b[43mengine\u001b[49m\u001b[38;5;241;43m=\u001b[39;49m\u001b[43mengine\u001b[49m\u001b[43m,\u001b[49m\n\u001b[0;32m    946\u001b[0m \u001b[43m        \u001b[49m\u001b[43mstorage_options\u001b[49m\u001b[38;5;241;43m=\u001b[39;49m\u001b[43mstorage_options\u001b[49m\u001b[43m,\u001b[49m\n\u001b[0;32m    947\u001b[0m \u001b[43m        \u001b[49m\u001b[43mengine_kwargs\u001b[49m\u001b[38;5;241;43m=\u001b[39;49m\u001b[43mengine_kwargs\u001b[49m\u001b[43m,\u001b[49m\n\u001b[0;32m    948\u001b[0m \u001b[43m    \u001b[49m\u001b[43m)\u001b[49m\n\u001b[0;32m    949\u001b[0m     need_save \u001b[38;5;241m=\u001b[39m \u001b[38;5;28;01mTrue\u001b[39;00m\n\u001b[0;32m    951\u001b[0m \u001b[38;5;28;01mtry\u001b[39;00m:\n",
      "File \u001b[1;32m~\\AppData\\Roaming\\Python\\Python311\\site-packages\\pandas\\io\\excel\\_openpyxl.py:61\u001b[0m, in \u001b[0;36mOpenpyxlWriter.__init__\u001b[1;34m(self, path, engine, date_format, datetime_format, mode, storage_options, if_sheet_exists, engine_kwargs, **kwargs)\u001b[0m\n\u001b[0;32m     57\u001b[0m \u001b[38;5;28;01mfrom\u001b[39;00m \u001b[38;5;21;01mopenpyxl\u001b[39;00m\u001b[38;5;21;01m.\u001b[39;00m\u001b[38;5;21;01mworkbook\u001b[39;00m \u001b[38;5;28;01mimport\u001b[39;00m Workbook\n\u001b[0;32m     59\u001b[0m engine_kwargs \u001b[38;5;241m=\u001b[39m combine_kwargs(engine_kwargs, kwargs)\n\u001b[1;32m---> 61\u001b[0m \u001b[38;5;28;43msuper\u001b[39;49m\u001b[43m(\u001b[49m\u001b[43m)\u001b[49m\u001b[38;5;241;43m.\u001b[39;49m\u001b[38;5;21;43m__init__\u001b[39;49m\u001b[43m(\u001b[49m\n\u001b[0;32m     62\u001b[0m \u001b[43m    \u001b[49m\u001b[43mpath\u001b[49m\u001b[43m,\u001b[49m\n\u001b[0;32m     63\u001b[0m \u001b[43m    \u001b[49m\u001b[43mmode\u001b[49m\u001b[38;5;241;43m=\u001b[39;49m\u001b[43mmode\u001b[49m\u001b[43m,\u001b[49m\n\u001b[0;32m     64\u001b[0m \u001b[43m    \u001b[49m\u001b[43mstorage_options\u001b[49m\u001b[38;5;241;43m=\u001b[39;49m\u001b[43mstorage_options\u001b[49m\u001b[43m,\u001b[49m\n\u001b[0;32m     65\u001b[0m \u001b[43m    \u001b[49m\u001b[43mif_sheet_exists\u001b[49m\u001b[38;5;241;43m=\u001b[39;49m\u001b[43mif_sheet_exists\u001b[49m\u001b[43m,\u001b[49m\n\u001b[0;32m     66\u001b[0m \u001b[43m    \u001b[49m\u001b[43mengine_kwargs\u001b[49m\u001b[38;5;241;43m=\u001b[39;49m\u001b[43mengine_kwargs\u001b[49m\u001b[43m,\u001b[49m\n\u001b[0;32m     67\u001b[0m \u001b[43m\u001b[49m\u001b[43m)\u001b[49m\n\u001b[0;32m     69\u001b[0m \u001b[38;5;66;03m# ExcelWriter replaced \"a\" by \"r+\" to allow us to first read the excel file from\u001b[39;00m\n\u001b[0;32m     70\u001b[0m \u001b[38;5;66;03m# the file and later write to it\u001b[39;00m\n\u001b[0;32m     71\u001b[0m \u001b[38;5;28;01mif\u001b[39;00m \u001b[38;5;124m\"\u001b[39m\u001b[38;5;124mr+\u001b[39m\u001b[38;5;124m\"\u001b[39m \u001b[38;5;129;01min\u001b[39;00m \u001b[38;5;28mself\u001b[39m\u001b[38;5;241m.\u001b[39m_mode:  \u001b[38;5;66;03m# Load from existing workbook\u001b[39;00m\n",
      "File \u001b[1;32m~\\AppData\\Roaming\\Python\\Python311\\site-packages\\pandas\\io\\excel\\_base.py:1246\u001b[0m, in \u001b[0;36mExcelWriter.__init__\u001b[1;34m(self, path, engine, date_format, datetime_format, mode, storage_options, if_sheet_exists, engine_kwargs)\u001b[0m\n\u001b[0;32m   1242\u001b[0m \u001b[38;5;28mself\u001b[39m\u001b[38;5;241m.\u001b[39m_handles \u001b[38;5;241m=\u001b[39m IOHandles(\n\u001b[0;32m   1243\u001b[0m     cast(IO[\u001b[38;5;28mbytes\u001b[39m], path), compression\u001b[38;5;241m=\u001b[39m{\u001b[38;5;124m\"\u001b[39m\u001b[38;5;124mcompression\u001b[39m\u001b[38;5;124m\"\u001b[39m: \u001b[38;5;28;01mNone\u001b[39;00m}\n\u001b[0;32m   1244\u001b[0m )\n\u001b[0;32m   1245\u001b[0m \u001b[38;5;28;01mif\u001b[39;00m \u001b[38;5;129;01mnot\u001b[39;00m \u001b[38;5;28misinstance\u001b[39m(path, ExcelWriter):\n\u001b[1;32m-> 1246\u001b[0m     \u001b[38;5;28mself\u001b[39m\u001b[38;5;241m.\u001b[39m_handles \u001b[38;5;241m=\u001b[39m \u001b[43mget_handle\u001b[49m\u001b[43m(\u001b[49m\n\u001b[0;32m   1247\u001b[0m \u001b[43m        \u001b[49m\u001b[43mpath\u001b[49m\u001b[43m,\u001b[49m\u001b[43m \u001b[49m\u001b[43mmode\u001b[49m\u001b[43m,\u001b[49m\u001b[43m \u001b[49m\u001b[43mstorage_options\u001b[49m\u001b[38;5;241;43m=\u001b[39;49m\u001b[43mstorage_options\u001b[49m\u001b[43m,\u001b[49m\u001b[43m \u001b[49m\u001b[43mis_text\u001b[49m\u001b[38;5;241;43m=\u001b[39;49m\u001b[38;5;28;43;01mFalse\u001b[39;49;00m\n\u001b[0;32m   1248\u001b[0m \u001b[43m    \u001b[49m\u001b[43m)\u001b[49m\n\u001b[0;32m   1249\u001b[0m \u001b[38;5;28mself\u001b[39m\u001b[38;5;241m.\u001b[39m_cur_sheet \u001b[38;5;241m=\u001b[39m \u001b[38;5;28;01mNone\u001b[39;00m\n\u001b[0;32m   1251\u001b[0m \u001b[38;5;28;01mif\u001b[39;00m date_format \u001b[38;5;129;01mis\u001b[39;00m \u001b[38;5;28;01mNone\u001b[39;00m:\n",
      "File \u001b[1;32m~\\AppData\\Roaming\\Python\\Python311\\site-packages\\pandas\\io\\common.py:882\u001b[0m, in \u001b[0;36mget_handle\u001b[1;34m(path_or_buf, mode, encoding, compression, memory_map, is_text, errors, storage_options)\u001b[0m\n\u001b[0;32m    873\u001b[0m         handle \u001b[38;5;241m=\u001b[39m \u001b[38;5;28mopen\u001b[39m(\n\u001b[0;32m    874\u001b[0m             handle,\n\u001b[0;32m    875\u001b[0m             ioargs\u001b[38;5;241m.\u001b[39mmode,\n\u001b[1;32m   (...)\u001b[0m\n\u001b[0;32m    878\u001b[0m             newline\u001b[38;5;241m=\u001b[39m\u001b[38;5;124m\"\u001b[39m\u001b[38;5;124m\"\u001b[39m,\n\u001b[0;32m    879\u001b[0m         )\n\u001b[0;32m    880\u001b[0m     \u001b[38;5;28;01melse\u001b[39;00m:\n\u001b[0;32m    881\u001b[0m         \u001b[38;5;66;03m# Binary mode\u001b[39;00m\n\u001b[1;32m--> 882\u001b[0m         handle \u001b[38;5;241m=\u001b[39m \u001b[38;5;28mopen\u001b[39m(handle, ioargs\u001b[38;5;241m.\u001b[39mmode)\n\u001b[0;32m    883\u001b[0m     handles\u001b[38;5;241m.\u001b[39mappend(handle)\n\u001b[0;32m    885\u001b[0m \u001b[38;5;66;03m# Convert BytesIO or file objects passed with an encoding\u001b[39;00m\n",
      "\u001b[1;31mPermissionError\u001b[0m: [Errno 13] Permission denied: 'questions/recommended.xlsx'"
     ]
    }
   ],
   "source": [
    "from functions import *\n",
    "from clio import *\n",
    "import numpy as np\n",
    "import pandas as pd\n",
    "from visualization import plot_travellers_vs_spending\n",
    "from functions import read_files, save_to_excel, successful_tour_looks_like, which_tours_go_together, edit_dfs, which_tours_do_we_recommend_to_a_traveller, add_df2_profit"
   ]
  },
  {
   "cell_type": "code",
   "execution_count": 5,
   "id": "9258178a",
   "metadata": {},
   "outputs": [],
   "source": [
    "#From here and on, our script starts executing\n",
    "dataframe1, dataframe2 = read_files()"
   ]
  },
  {
   "cell_type": "code",
   "execution_count": 3,
   "id": "f853fac9",
   "metadata": {},
   "outputs": [
    {
     "name": "stderr",
     "output_type": "stream",
     "text": [
      "C:\\Users\\steve\\Clio_Muse Data Analysis Project\\functions.py:337: UserWarning: Parsing dates in %Y-%m-%d %H:%M:%S format when dayfirst=True was specified. Pass `dayfirst=False` or specify a format to silence this warning.\n",
      "  dataframe1['booking_date'] = pd.to_datetime(dataframe1['booking_date'], dayfirst=True)\n"
     ]
    }
   ],
   "source": [
    "#do a minor edit in df1 so as to have all split product codes saved as a set\n",
    "dataframe1, dataframe2 = edit_dfs(dataframe1, dataframe2)"
   ]
  },
  {
   "cell_type": "code",
   "execution_count": null,
   "id": "bac2b8d7",
   "metadata": {},
   "outputs": [],
   "source": [
    "#add profit to dataframe2\n",
    "dataframe2 = add_df2_profit(dataframe1, dataframe2)"
   ]
  },
  {
   "cell_type": "code",
   "execution_count": null,
   "id": "a16725dc-dade-4d16-892b-923722519a5e",
   "metadata": {},
   "outputs": [],
   "source": [
    "#which tours go together?\n",
    "go_together = which_tours_go_together(dataframe1, dataframe2)"
   ]
  },
  {
   "cell_type": "code",
   "execution_count": null,
   "id": "9f943243-8c90-44d8-974b-f834e79188d7",
   "metadata": {},
   "outputs": [],
   "source": [
    "#how does a successful tour look like?\n",
    "successful = successful_tour_looks_like(dataframe1, dataframe2)"
   ]
  },
  {
   "cell_type": "code",
   "execution_count": 4,
   "id": "9806992b",
   "metadata": {},
   "outputs": [
    {
     "ename": "NameError",
     "evalue": "name 'dataframe1' is not defined",
     "output_type": "error",
     "traceback": [
      "\u001b[1;31m---------------------------------------------------------------------------\u001b[0m",
      "\u001b[1;31mNameError\u001b[0m                                 Traceback (most recent call last)",
      "Cell \u001b[1;32mIn[4], line 2\u001b[0m\n\u001b[0;32m      1\u001b[0m \u001b[38;5;66;03m#which tours do we recommend to a traveller?\u001b[39;00m\n\u001b[1;32m----> 2\u001b[0m which_tours_do_we_recommend_to_a_traveller(\u001b[43mdataframe1\u001b[49m, dataframe2, go_together)\n",
      "\u001b[1;31mNameError\u001b[0m: name 'dataframe1' is not defined"
     ]
    }
   ],
   "source": [
    "#which tours do we recommend to a traveller?\n",
    "which_tours_do_we_recommend_to_a_traveller(dataframe1, dataframe2, go_together)"
   ]
  },
  {
   "cell_type": "code",
   "execution_count": null,
   "id": "cb621b1e",
   "metadata": {},
   "outputs": [],
   "source": [
    "save_to_excel(dataframe1, dataframe2)\n"
   ]
  },
  {
   "cell_type": "code",
   "execution_count": null,
   "id": "723ea0ab-6373-479f-81c9-aa6dba67fd8f",
   "metadata": {},
   "outputs": [],
   "source": []
  },
  {
   "cell_type": "code",
   "execution_count": null,
   "id": "fea10171",
   "metadata": {},
   "outputs": [],
   "source": [
    "from IPython.display import display\n",
    "display(dataframe1)"
   ]
  },
  {
   "cell_type": "code",
   "execution_count": 22,
   "id": "14c2208d",
   "metadata": {},
   "outputs": [
    {
     "data": {
      "text/html": [
       "<div>\n",
       "<style scoped>\n",
       "    .dataframe tbody tr th:only-of-type {\n",
       "        vertical-align: middle;\n",
       "    }\n",
       "\n",
       "    .dataframe tbody tr th {\n",
       "        vertical-align: top;\n",
       "    }\n",
       "\n",
       "    .dataframe thead th {\n",
       "        text-align: right;\n",
       "    }\n",
       "</style>\n",
       "<table border=\"1\" class=\"dataframe\">\n",
       "  <thead>\n",
       "    <tr style=\"text-align: right;\">\n",
       "      <th></th>\n",
       "      <th>Practical Information</th>\n",
       "      <th>Product Code and Name</th>\n",
       "      <th>Unnamed: 2</th>\n",
       "      <th>Qualitative Information - Findings</th>\n",
       "      <th>Unnamed: 4</th>\n",
       "      <th>Unnamed: 5</th>\n",
       "      <th>Experience</th>\n",
       "      <th>month</th>\n",
       "      <th>Unnamed: 0</th>\n",
       "      <th>Reviews</th>\n",
       "      <th>Unnamed: 7</th>\n",
       "      <th>Unnamed: 8</th>\n",
       "      <th>Unnamed: 9</th>\n",
       "      <th>Product Code</th>\n",
       "      <th>Name of Product</th>\n",
       "      <th>split_product_code</th>\n",
       "      <th>Country</th>\n",
       "      <th>language</th>\n",
       "      <th>split_product_codes</th>\n",
       "      <th>Profit</th>\n",
       "    </tr>\n",
       "  </thead>\n",
       "  <tbody>\n",
       "    <tr>\n",
       "      <th>0</th>\n",
       "      <td>Important Information</td>\n",
       "      <td>Name of Product Reviewed</td>\n",
       "      <td>Review</td>\n",
       "      <td>Content</td>\n",
       "      <td>Technology</td>\n",
       "      <td>Customer Support</td>\n",
       "      <td>Overall Experience</td>\n",
       "      <td>January</td>\n",
       "      <td>NaN</td>\n",
       "      <td>NaN</td>\n",
       "      <td>NaN</td>\n",
       "      <td>NaN</td>\n",
       "      <td>NaN</td>\n",
       "      <td>Name of Product Reviewed</td>\n",
       "      <td>None</td>\n",
       "      <td>Name of Product Reviewed</td>\n",
       "      <td>NaN</td>\n",
       "      <td>NaN</td>\n",
       "      <td>{Name of Product Reviewed}</td>\n",
       "      <td>NaN</td>\n",
       "    </tr>\n",
       "    <tr>\n",
       "      <th>1</th>\n",
       "      <td>False</td>\n",
       "      <td>STL55 | Athens National Archaeological Museum ...</td>\n",
       "      <td>Without the Audio Guide I would not have under...</td>\n",
       "      <td>NaN</td>\n",
       "      <td>NaN</td>\n",
       "      <td>NaN</td>\n",
       "      <td>Excellent (5 stars)</td>\n",
       "      <td>January</td>\n",
       "      <td>NaN</td>\n",
       "      <td>NaN</td>\n",
       "      <td>NaN</td>\n",
       "      <td>NaN</td>\n",
       "      <td>NaN</td>\n",
       "      <td>STL55</td>\n",
       "      <td>Athens National Archaeological Museum Ticket ...</td>\n",
       "      <td>STL55</td>\n",
       "      <td>NaN</td>\n",
       "      <td>NaN</td>\n",
       "      <td>{STL55}</td>\n",
       "      <td>26.0</td>\n",
       "    </tr>\n",
       "    <tr>\n",
       "      <th>2</th>\n",
       "      <td>False</td>\n",
       "      <td>TO240_181_51_459 | Acropolis &amp; 6 Archaeologica...</td>\n",
       "      <td>I liked it a lot, you know different things ab...</td>\n",
       "      <td>NaN</td>\n",
       "      <td>NaN</td>\n",
       "      <td>NaN</td>\n",
       "      <td>Positive (4 stars)</td>\n",
       "      <td>January</td>\n",
       "      <td>NaN</td>\n",
       "      <td>NaN</td>\n",
       "      <td>NaN</td>\n",
       "      <td>NaN</td>\n",
       "      <td>NaN</td>\n",
       "      <td>TO240_181_51_459</td>\n",
       "      <td>Acropolis &amp; 6 Archaeological Sites Combo Ticket</td>\n",
       "      <td>TO240</td>\n",
       "      <td>Greece</td>\n",
       "      <td>English</td>\n",
       "      <td>{TO240, 181, 51, 459}</td>\n",
       "      <td>12.0</td>\n",
       "    </tr>\n",
       "    <tr>\n",
       "      <th>8</th>\n",
       "      <td>False</td>\n",
       "      <td>TO240_181_51_459 | Acropolis &amp; 6 Archaeologica...</td>\n",
       "      <td>I liked it a lot, you know different things ab...</td>\n",
       "      <td>NaN</td>\n",
       "      <td>NaN</td>\n",
       "      <td>NaN</td>\n",
       "      <td>Positive (4 stars)</td>\n",
       "      <td>January</td>\n",
       "      <td>NaN</td>\n",
       "      <td>NaN</td>\n",
       "      <td>NaN</td>\n",
       "      <td>NaN</td>\n",
       "      <td>NaN</td>\n",
       "      <td>TO240_181_51_459</td>\n",
       "      <td>Acropolis &amp; 6 Archaeological Sites Combo Ticket</td>\n",
       "      <td>TO240</td>\n",
       "      <td>Greece</td>\n",
       "      <td>Spanish</td>\n",
       "      <td>{TO240, 181, 51, 459}</td>\n",
       "      <td>12.0</td>\n",
       "    </tr>\n",
       "    <tr>\n",
       "      <th>60</th>\n",
       "      <td>False</td>\n",
       "      <td>TO240_181_51_459 | Acropolis &amp; 6 Archaeologica...</td>\n",
       "      <td>I liked it a lot, you know different things ab...</td>\n",
       "      <td>NaN</td>\n",
       "      <td>NaN</td>\n",
       "      <td>NaN</td>\n",
       "      <td>Positive (4 stars)</td>\n",
       "      <td>January</td>\n",
       "      <td>NaN</td>\n",
       "      <td>NaN</td>\n",
       "      <td>NaN</td>\n",
       "      <td>NaN</td>\n",
       "      <td>NaN</td>\n",
       "      <td>TO240_181_51_459</td>\n",
       "      <td>Acropolis &amp; 6 Archaeological Sites Combo Ticket</td>\n",
       "      <td>TO240</td>\n",
       "      <td>Greece</td>\n",
       "      <td>Italian</td>\n",
       "      <td>{TO240, 181, 51, 459}</td>\n",
       "      <td>12.0</td>\n",
       "    </tr>\n",
       "  </tbody>\n",
       "</table>\n",
       "</div>"
      ],
      "text/plain": [
       "    Practical Information                              Product Code and Name  \\\n",
       "0   Important Information                           Name of Product Reviewed   \n",
       "1                   False  STL55 | Athens National Archaeological Museum ...   \n",
       "2                   False  TO240_181_51_459 | Acropolis & 6 Archaeologica...   \n",
       "8                   False  TO240_181_51_459 | Acropolis & 6 Archaeologica...   \n",
       "60                  False  TO240_181_51_459 | Acropolis & 6 Archaeologica...   \n",
       "\n",
       "                                           Unnamed: 2  \\\n",
       "0                                              Review   \n",
       "1   Without the Audio Guide I would not have under...   \n",
       "2   I liked it a lot, you know different things ab...   \n",
       "8   I liked it a lot, you know different things ab...   \n",
       "60  I liked it a lot, you know different things ab...   \n",
       "\n",
       "   Qualitative Information - Findings  Unnamed: 4        Unnamed: 5  \\\n",
       "0                             Content  Technology  Customer Support   \n",
       "1                                 NaN         NaN               NaN   \n",
       "2                                 NaN         NaN               NaN   \n",
       "8                                 NaN         NaN               NaN   \n",
       "60                                NaN         NaN               NaN   \n",
       "\n",
       "             Experience    month Unnamed: 0 Reviews Unnamed: 7 Unnamed: 8  \\\n",
       "0    Overall Experience  January        NaN     NaN        NaN        NaN   \n",
       "1   Excellent (5 stars)  January        NaN     NaN        NaN        NaN   \n",
       "2    Positive (4 stars)  January        NaN     NaN        NaN        NaN   \n",
       "8    Positive (4 stars)  January        NaN     NaN        NaN        NaN   \n",
       "60   Positive (4 stars)  January        NaN     NaN        NaN        NaN   \n",
       "\n",
       "   Unnamed: 9              Product Code  \\\n",
       "0         NaN  Name of Product Reviewed   \n",
       "1         NaN                    STL55    \n",
       "2         NaN         TO240_181_51_459    \n",
       "8         NaN         TO240_181_51_459    \n",
       "60        NaN         TO240_181_51_459    \n",
       "\n",
       "                                      Name of Product  \\\n",
       "0                                                None   \n",
       "1    Athens National Archaeological Museum Ticket ...   \n",
       "2     Acropolis & 6 Archaeological Sites Combo Ticket   \n",
       "8     Acropolis & 6 Archaeological Sites Combo Ticket   \n",
       "60    Acropolis & 6 Archaeological Sites Combo Ticket   \n",
       "\n",
       "          split_product_code Country language         split_product_codes  \\\n",
       "0   Name of Product Reviewed     NaN      NaN  {Name of Product Reviewed}   \n",
       "1                     STL55      NaN      NaN                     {STL55}   \n",
       "2                      TO240  Greece  English       {TO240, 181, 51, 459}   \n",
       "8                      TO240  Greece  Spanish       {TO240, 181, 51, 459}   \n",
       "60                     TO240  Greece  Italian       {TO240, 181, 51, 459}   \n",
       "\n",
       "    Profit  \n",
       "0      NaN  \n",
       "1     26.0  \n",
       "2     12.0  \n",
       "8     12.0  \n",
       "60    12.0  "
      ]
     },
     "execution_count": 22,
     "metadata": {},
     "output_type": "execute_result"
    }
   ],
   "source": [
    "dataframe2.head(5)"
   ]
  },
  {
   "cell_type": "code",
   "execution_count": null,
   "id": "35fda504-0c54-402d-b974-e1228e1777b1",
   "metadata": {},
   "outputs": [],
   "source": [
    "plot_travellers_vs_spending(successful)"
   ]
  },
  {
   "cell_type": "code",
   "execution_count": null,
   "id": "7f0c0214-49b4-4274-b9c9-4437773da124",
   "metadata": {},
   "outputs": [],
   "source": []
  }
 ],
 "metadata": {
  "kernelspec": {
   "display_name": "Python 3 (ipykernel)",
   "language": "python",
   "name": "python3"
  },
  "language_info": {
   "codemirror_mode": {
    "name": "ipython",
    "version": 3
   },
   "file_extension": ".py",
   "mimetype": "text/x-python",
   "name": "python",
   "nbconvert_exporter": "python",
   "pygments_lexer": "ipython3",
   "version": "3.11.7"
  }
 },
 "nbformat": 4,
 "nbformat_minor": 5
}

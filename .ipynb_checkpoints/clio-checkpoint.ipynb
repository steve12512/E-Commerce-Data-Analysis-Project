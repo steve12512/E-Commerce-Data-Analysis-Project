{
 "cells": [
  {
   "cell_type": "code",
   "execution_count": 9,
   "id": "df2706a8",
   "metadata": {},
   "outputs": [],
   "source": [
    "from functions import *\n",
    "from clio import *\n",
    "import numpy as np\n",
    "import pandas as pd\n",
    "from functions import read_files, save_to_excel, successful_tour_looks_like, which_tours_go_together, edit_dfs, which_tours_do_we_recommend_to_a_traveller, add_df2_profit"
   ]
  },
  {
   "cell_type": "code",
   "execution_count": 10,
   "id": "9258178a",
   "metadata": {},
   "outputs": [],
   "source": [
    "#From here and on, our script starts executing\n",
    "dataframe1, dataframe2 = read_files()"
   ]
  },
  {
   "cell_type": "code",
   "execution_count": 11,
   "id": "e1a6e9da",
   "metadata": {},
   "outputs": [],
   "source": [
    "#how does a successful tour look like?\n",
    "successful_tour_looks_like(dataframe1, dataframe2)"
   ]
  },
  {
   "cell_type": "code",
   "execution_count": 12,
   "id": "2e498e9c",
   "metadata": {},
   "outputs": [],
   "source": [
    "#which tours go together?\n",
    "go_together = which_tours_go_together(dataframe1, dataframe2)"
   ]
  },
  {
   "cell_type": "code",
   "execution_count": 13,
   "id": "f853fac9",
   "metadata": {},
   "outputs": [
    {
     "name": "stderr",
     "output_type": "stream",
     "text": [
      "C:\\Users\\steve\\Clio Muse Data Analysis Project\\Clio_Muse-Data-Analysis-Project-1\\functions.py:332: UserWarning: Parsing dates in %Y-%m-%d %H:%M:%S format when dayfirst=True was specified. Pass `dayfirst=False` or specify a format to silence this warning.\n",
      "  dataframe1['booking_date'] = pd.to_datetime(dataframe1['booking_date'], dayfirst=True)\n"
     ]
    }
   ],
   "source": [
    "#do a minor edit in df1 so as to have all split product codes saved as a set\n",
    "dataframe1, dataframe2 = edit_dfs(dataframe1, dataframe2)"
   ]
  },
  {
   "cell_type": "code",
   "execution_count": null,
   "id": "bac2b8d7",
   "metadata": {},
   "outputs": [],
   "source": [
    "#add profit to dataframe2\n",
    "dataframe2 = add_df2_profit(dataframe1, dataframe2)"
   ]
  },
  {
   "cell_type": "code",
   "execution_count": null,
   "id": "9806992b",
   "metadata": {},
   "outputs": [],
   "source": [
    "#which tours do we recommend to a traveller?\n",
    "which_tours_do_we_recommend_to_a_traveller(dataframe1, dataframe2, go_together)"
   ]
  },
  {
   "cell_type": "code",
   "execution_count": null,
   "id": "cb621b1e",
   "metadata": {},
   "outputs": [],
   "source": [
    "save_to_excel(dataframe1, dataframe2)\n"
   ]
  },
  {
   "cell_type": "code",
   "execution_count": null,
   "id": "3fece26d",
   "metadata": {},
   "outputs": [],
   "source": []
  },
  {
   "cell_type": "code",
   "execution_count": null,
   "id": "76f1a005",
   "metadata": {},
   "outputs": [],
   "source": []
  },
  {
   "cell_type": "code",
   "execution_count": null,
   "id": "fea10171",
   "metadata": {},
   "outputs": [],
   "source": []
  },
  {
   "cell_type": "code",
   "execution_count": null,
   "id": "14c2208d",
   "metadata": {},
   "outputs": [],
   "source": []
  }
 ],
 "metadata": {
  "kernelspec": {
   "display_name": "Python 3 (ipykernel)",
   "language": "python",
   "name": "python3"
  },
  "language_info": {
   "codemirror_mode": {
    "name": "ipython",
    "version": 3
   },
   "file_extension": ".py",
   "mimetype": "text/x-python",
   "name": "python",
   "nbconvert_exporter": "python",
   "pygments_lexer": "ipython3",
   "version": "3.11.5"
  }
 },
 "nbformat": 4,
 "nbformat_minor": 5
}

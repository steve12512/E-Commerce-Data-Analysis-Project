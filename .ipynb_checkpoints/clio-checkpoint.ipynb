{
 "cells": [
  {
   "cell_type": "code",
   "execution_count": null,
   "id": "df2706a8",
   "metadata": {},
   "outputs": [],
   "source": [
    "from functions import *\n",
    "from clio import *\n",
    "import numpy as np\n",
    "import pandas as pd\n",
    "from visualization import plot_travellers_vs_spending\n",
    "from functions import read_files, save_to_excel, successful_tour_looks_like, which_tours_go_together, edit_dfs, which_tours_do_we_recommend_to_a_traveller, add_df2_profit"
   ]
  },
  {
   "cell_type": "code",
   "execution_count": 5,
   "id": "9258178a",
   "metadata": {},
   "outputs": [],
   "source": [
    "#From here and on, our script starts executing\n",
    "dataframe1, dataframe2 = read_files()"
   ]
  },
  {
   "cell_type": "code",
   "execution_count": 7,
   "id": "f853fac9",
   "metadata": {},
   "outputs": [
    {
     "name": "stderr",
     "output_type": "stream",
     "text": [
      "C:\\Users\\steve\\Clio_Muse Data Analysis Project\\functions.py:341: UserWarning: Parsing dates in %Y-%m-%d %H:%M:%S format when dayfirst=True was specified. Pass `dayfirst=False` or specify a format to silence this warning.\n",
      "  dataframe1['booking_date'] = pd.to_datetime(dataframe1['booking_date'], dayfirst=True)\n"
     ]
    }
   ],
   "source": [
    "#do a minor edit in df1 so as to have all split product codes saved as a set\n",
    "dataframe1, dataframe2 = edit_dfs(dataframe1, dataframe2)"
   ]
  },
  {
   "cell_type": "code",
   "execution_count": null,
   "id": "bac2b8d7",
   "metadata": {},
   "outputs": [],
   "source": [
    "#add profit to dataframe2\n",
    "dataframe2 = add_df2_profit(dataframe1, dataframe2)"
   ]
  },
  {
   "cell_type": "code",
   "execution_count": null,
   "id": "a16725dc-dade-4d16-892b-923722519a5e",
   "metadata": {},
   "outputs": [],
   "source": [
    "#which tours go together?\n",
    "go_together = which_tours_go_together(dataframe1, dataframe2)"
   ]
  },
  {
   "cell_type": "code",
   "execution_count": 8,
   "id": "9f943243-8c90-44d8-974b-f834e79188d7",
   "metadata": {},
   "outputs": [],
   "source": [
    "#how does a successful tour look like?\n",
    "successful = successful_tour_looks_like(dataframe1, dataframe2)"
   ]
  },
  {
   "cell_type": "code",
   "execution_count": null,
   "id": "9806992b",
   "metadata": {},
   "outputs": [],
   "source": [
    "#which tours do we recommend to a traveller?\n",
    "which_tours_do_we_recommend_to_a_traveller(dataframe1, dataframe2, go_together)"
   ]
  },
  {
   "cell_type": "code",
   "execution_count": null,
   "id": "cb621b1e",
   "metadata": {},
   "outputs": [],
   "source": [
    "save_to_excel(dataframe1, dataframe2)\n"
   ]
  },
  {
   "cell_type": "code",
   "execution_count": null,
   "id": "723ea0ab-6373-479f-81c9-aa6dba67fd8f",
   "metadata": {},
   "outputs": [],
   "source": []
  },
  {
   "cell_type": "code",
   "execution_count": null,
   "id": "fea10171",
   "metadata": {},
   "outputs": [],
   "source": [
    "dataframe1.head(5)"
   ]
  },
  {
   "cell_type": "code",
   "execution_count": null,
   "id": "14c2208d",
   "metadata": {},
   "outputs": [],
   "source": [
    "dataframe2.head(5)"
   ]
  },
  {
   "cell_type": "code",
   "execution_count": 9,
   "id": "35fda504-0c54-402d-b974-e1228e1777b1",
   "metadata": {},
   "outputs": [
    {
     "ename": "TypeError",
     "evalue": "'module' object is not callable",
     "output_type": "error",
     "traceback": [
      "\u001b[1;31m---------------------------------------------------------------------------\u001b[0m",
      "\u001b[1;31mTypeError\u001b[0m                                 Traceback (most recent call last)",
      "Cell \u001b[1;32mIn[9], line 1\u001b[0m\n\u001b[1;32m----> 1\u001b[0m \u001b[43mplot_travellers_vs_spending\u001b[49m\u001b[43m(\u001b[49m\u001b[43msuccessful\u001b[49m\u001b[43m)\u001b[49m\n",
      "File \u001b[1;32m~\\Clio_Muse Data Analysis Project\\visualization.py:17\u001b[0m, in \u001b[0;36mplot_travellers_vs_spending\u001b[1;34m(df1)\u001b[0m\n\u001b[0;32m      7\u001b[0m \u001b[38;5;250m\u001b[39m\u001b[38;5;124;03m\"\"\"\u001b[39;00m\n\u001b[0;32m      8\u001b[0m \u001b[38;5;124;03mPlot the relationship between the average number of travellers and the average money spent.\u001b[39;00m\n\u001b[0;32m      9\u001b[0m \u001b[38;5;124;03m\u001b[39;00m\n\u001b[1;32m   (...)\u001b[0m\n\u001b[0;32m     14\u001b[0m \u001b[38;5;124;03mNone\u001b[39;00m\n\u001b[0;32m     15\u001b[0m \u001b[38;5;124;03m\"\"\"\u001b[39;00m\n\u001b[0;32m     16\u001b[0m \u001b[38;5;66;03m# Set the plot size\u001b[39;00m\n\u001b[1;32m---> 17\u001b[0m \u001b[43mplt\u001b[49m\u001b[38;5;241;43m.\u001b[39;49m\u001b[43mfigure\u001b[49m\u001b[43m(\u001b[49m\u001b[43mfigsize\u001b[49m\u001b[38;5;241;43m=\u001b[39;49m\u001b[43m(\u001b[49m\u001b[38;5;241;43m10\u001b[39;49m\u001b[43m,\u001b[49m\u001b[43m \u001b[49m\u001b[38;5;241;43m6\u001b[39;49m\u001b[43m)\u001b[49m\u001b[43m)\u001b[49m\n\u001b[0;32m     19\u001b[0m \u001b[38;5;66;03m# Plot the line plot with markers\u001b[39;00m\n\u001b[0;32m     20\u001b[0m sns\u001b[38;5;241m.\u001b[39mlineplot(\n\u001b[0;32m     21\u001b[0m     data\u001b[38;5;241m=\u001b[39mdf1, \n\u001b[0;32m     22\u001b[0m     x\u001b[38;5;241m=\u001b[39m\u001b[38;5;124m'\u001b[39m\u001b[38;5;124maverage_travellers\u001b[39m\u001b[38;5;124m'\u001b[39m, \n\u001b[1;32m   (...)\u001b[0m\n\u001b[0;32m     25\u001b[0m     hue\u001b[38;5;241m=\u001b[39m\u001b[38;5;124m'\u001b[39m\u001b[38;5;124mCountry\u001b[39m\u001b[38;5;124m'\u001b[39m\n\u001b[0;32m     26\u001b[0m )\n",
      "\u001b[1;31mTypeError\u001b[0m: 'module' object is not callable"
     ]
    }
   ],
   "source": [
    "plot_travellers_vs_spending(successful)"
   ]
  },
  {
   "cell_type": "code",
   "execution_count": null,
   "id": "7f0c0214-49b4-4274-b9c9-4437773da124",
   "metadata": {},
   "outputs": [],
   "source": []
  }
 ],
 "metadata": {
  "kernelspec": {
   "display_name": "Python 3 (ipykernel)",
   "language": "python",
   "name": "python3"
  },
  "language_info": {
   "codemirror_mode": {
    "name": "ipython",
    "version": 3
   },
   "file_extension": ".py",
   "mimetype": "text/x-python",
   "name": "python",
   "nbconvert_exporter": "python",
   "pygments_lexer": "ipython3",
   "version": "3.11.7"
  }
 },
 "nbformat": 4,
 "nbformat_minor": 5
}

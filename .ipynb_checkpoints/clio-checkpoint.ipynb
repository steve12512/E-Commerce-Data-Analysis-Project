{
 "cells": [
  {
   "cell_type": "code",
   "execution_count": 2,
   "id": "df2706a8",
   "metadata": {},
   "outputs": [
    {
     "ename": "ImportError",
     "evalue": "cannot import name 'optimum_number_of_stories' from 'functions' (C:\\Users\\steve\\Clio Muse Data Analysis Project\\Clio_Muse-Data-Analysis-Project-1\\functions.py)",
     "output_type": "error",
     "traceback": [
      "\u001b[1;31m---------------------------------------------------------------------------\u001b[0m",
      "\u001b[1;31mImportError\u001b[0m                               Traceback (most recent call last)",
      "Cell \u001b[1;32mIn[2], line 2\u001b[0m\n\u001b[0;32m      1\u001b[0m \u001b[38;5;28;01mfrom\u001b[39;00m \u001b[38;5;21;01mfunctions\u001b[39;00m \u001b[38;5;28;01mimport\u001b[39;00m \u001b[38;5;241m*\u001b[39m\n\u001b[1;32m----> 2\u001b[0m \u001b[38;5;28;01mfrom\u001b[39;00m \u001b[38;5;21;01mclio\u001b[39;00m \u001b[38;5;28;01mimport\u001b[39;00m \u001b[38;5;241m*\u001b[39m\n\u001b[0;32m      3\u001b[0m \u001b[38;5;28;01mimport\u001b[39;00m \u001b[38;5;21;01mnumpy\u001b[39;00m \u001b[38;5;28;01mas\u001b[39;00m \u001b[38;5;21;01mnp\u001b[39;00m\n\u001b[0;32m      4\u001b[0m \u001b[38;5;28;01mimport\u001b[39;00m \u001b[38;5;21;01mpandas\u001b[39;00m \u001b[38;5;28;01mas\u001b[39;00m \u001b[38;5;21;01mpd\u001b[39;00m\n",
      "File \u001b[1;32m~\\Clio Muse Data Analysis Project\\Clio_Muse-Data-Analysis-Project-1\\clio.py:3\u001b[0m\n\u001b[0;32m      1\u001b[0m \u001b[38;5;28;01mimport\u001b[39;00m \u001b[38;5;21;01mnumpy\u001b[39;00m \u001b[38;5;28;01mas\u001b[39;00m \u001b[38;5;21;01mnp\u001b[39;00m\n\u001b[0;32m      2\u001b[0m \u001b[38;5;28;01mimport\u001b[39;00m \u001b[38;5;21;01mpandas\u001b[39;00m \u001b[38;5;28;01mas\u001b[39;00m \u001b[38;5;21;01mpd\u001b[39;00m\n\u001b[1;32m----> 3\u001b[0m \u001b[38;5;28;01mfrom\u001b[39;00m \u001b[38;5;21;01mfunctions\u001b[39;00m \u001b[38;5;28;01mimport\u001b[39;00m optimum_number_of_stories, read_files, save_to_excel, successful_tour_looks_like, which_tours_go_together, edit_dfs, which_tours_do_we_recommend_to_a_traveller, add_df2_profit\n\u001b[0;32m      4\u001b[0m \u001b[38;5;28;01mfrom\u001b[39;00m \u001b[38;5;21;01mvisualization\u001b[39;00m \u001b[38;5;28;01mimport\u001b[39;00m \u001b[38;5;241m*\u001b[39m\n\u001b[0;32m      5\u001b[0m \u001b[38;5;28;01mfrom\u001b[39;00m \u001b[38;5;21;01mquestions\u001b[39;00m \u001b[38;5;28;01mimport\u001b[39;00m \u001b[38;5;241m*\u001b[39m\n",
      "\u001b[1;31mImportError\u001b[0m: cannot import name 'optimum_number_of_stories' from 'functions' (C:\\Users\\steve\\Clio Muse Data Analysis Project\\Clio_Muse-Data-Analysis-Project-1\\functions.py)"
     ]
    }
   ],
   "source": [
    "from functions import *\n",
    "from clio import *\n",
    "import numpy as np\n",
    "import pandas as pd\n",
    "from functions import *\n",
    "from questions import *\n",
    "from visualization import *"
   ]
  },
  {
   "cell_type": "code",
   "execution_count": null,
   "id": "9258178a",
   "metadata": {},
   "outputs": [],
   "source": [
    "#From here and on, our script starts executing\n",
    "dataframe1, dataframe2 = read_files()"
   ]
  },
  {
   "cell_type": "code",
   "execution_count": null,
   "id": "f853fac9",
   "metadata": {},
   "outputs": [],
   "source": [
    "#do a minor edit in df1 so as to have all split product codes saved as a set\n",
    "dataframe1, dataframe2 = edit_dfs(dataframe1, dataframe2)"
   ]
  },
  {
   "cell_type": "code",
   "execution_count": null,
   "id": "bac2b8d7",
   "metadata": {},
   "outputs": [],
   "source": [
    "#add profit to dataframe2\n",
    "dataframe2 = add_df2_profit(dataframe1, dataframe2)"
   ]
  },
  {
   "cell_type": "code",
   "execution_count": null,
   "id": "a16725dc-dade-4d16-892b-923722519a5e",
   "metadata": {},
   "outputs": [],
   "source": [
    "#which tours go together?\n",
    "go_together = which_tours_go_together(dataframe1, dataframe2)"
   ]
  },
  {
   "cell_type": "code",
   "execution_count": null,
   "id": "9f943243-8c90-44d8-974b-f834e79188d7",
   "metadata": {},
   "outputs": [],
   "source": [
    "#how does a successful tour look like?\n",
    "successful = successful_tour_looks_like(dataframe1, dataframe2)"
   ]
  },
  {
   "cell_type": "code",
   "execution_count": null,
   "id": "9806992b",
   "metadata": {},
   "outputs": [],
   "source": [
    "#which tours do we recommend to a traveller?\n",
    "which_tours_do_we_recommend_to_a_traveller(dataframe1, dataframe2, go_together)"
   ]
  },
  {
   "cell_type": "code",
   "execution_count": null,
   "id": "cb621b1e",
   "metadata": {},
   "outputs": [],
   "source": [
    "save_to_excel(dataframe1, dataframe2)\n"
   ]
  },
  {
   "cell_type": "code",
   "execution_count": null,
   "id": "723ea0ab-6373-479f-81c9-aa6dba67fd8f",
   "metadata": {},
   "outputs": [],
   "source": []
  },
  {
   "cell_type": "code",
   "execution_count": null,
   "id": "fea10171",
   "metadata": {},
   "outputs": [],
   "source": [
    "from IPython.display import display\n",
    "display(dataframe1.head(5))"
   ]
  },
  {
   "cell_type": "code",
   "execution_count": null,
   "id": "14c2208d",
   "metadata": {},
   "outputs": [],
   "source": [
    "dataframe2.head(5)"
   ]
  },
  {
   "cell_type": "code",
   "execution_count": null,
   "id": "35fda504-0c54-402d-b974-e1228e1777b1",
   "metadata": {},
   "outputs": [],
   "source": [
    "plot_travellers_vs_spending(successful)"
   ]
  },
  {
   "cell_type": "code",
   "execution_count": null,
   "id": "7f0c0214-49b4-4274-b9c9-4437773da124",
   "metadata": {},
   "outputs": [],
   "source": [
    "!conda install python-Levenshtein"
   ]
  }
 ],
 "metadata": {
  "kernelspec": {
   "display_name": "Python 3 (ipykernel)",
   "language": "python",
   "name": "python3"
  },
  "language_info": {
   "codemirror_mode": {
    "name": "ipython",
    "version": 3
   },
   "file_extension": ".py",
   "mimetype": "text/x-python",
   "name": "python",
   "nbconvert_exporter": "python",
   "pygments_lexer": "ipython3",
   "version": "3.11.5"
  }
 },
 "nbformat": 4,
 "nbformat_minor": 5
}
